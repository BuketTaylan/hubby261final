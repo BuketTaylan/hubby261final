{
  "nbformat": 4,
  "nbformat_minor": 0,
  "metadata": {
    "colab": {
      "provenance": [],
      "include_colab_link": true
    },
    "kernelspec": {
      "name": "python3",
      "display_name": "Python 3"
    },
    "language_info": {
      "name": "python"
    }
  },
  "cells": [
    {
      "cell_type": "markdown",
      "metadata": {
        "id": "view-in-github",
        "colab_type": "text"
      },
      "source": [
        "<a href=\"https://colab.research.google.com/github/BuketTaylan/hubby261final/blob/main/BuketTaylan_BBY261_%C4%B0leri_Programlama_Final.ipynb\" target=\"_parent\"><img src=\"https://colab.research.google.com/assets/colab-badge.svg\" alt=\"Open In Colab\"/></a>"
      ]
    },
    {
      "cell_type": "markdown",
      "source": [
        "**BBY261 Final Sınavına Hoşgeldiniz**\n",
        "\n",
        "Bu Colab not defterinin bir kopyasını kendi \"Google Drive\" hesabınızda \"Dosya >  Drive'da bir kopya kaydet\" seçeneği ile oluşturunuz. Sorulara kendi oluşturduğunuz kopya içinde yanıt veriniz. Her sorunun altında sorunun yanıtlanacağı kod alanı yer almaktadır, sadece bu alanı kullanınız.\n",
        "\n",
        "Github hesabınızda \"hubby261final\" adlı kod deposu oluşturunuz. Çalışmanızı tamamladığınızda Colab dosyanızı Github hesabınızda oluşturduğunuz \"hubby261final\" adlı kod deposuna (repository) \"Dosya > Github'da bir kopya kaydet\" seçeneği ile kaydediniz.\n",
        "\n",
        "Not: Tüm işlemleri tamamladığınızda sınavınızı başarıyla teslim edip edemediğinizi kontrol etmem gerekiyor. Bu açıdan sınavı tamamladığınızda lütfen bana haber verin ve kontrol işlemini birlikte gerçekleştirelim.\n",
        "\n",
        "Süreniz **1** saattir!\n",
        "\n",
        "*Başarılar...*"
      ],
      "metadata": {
        "id": "LwfacJaeu2VZ"
      }
    },
    {
      "cell_type": "markdown",
      "source": [
        "# Soru 1\n",
        "\n",
        "Kod bölümünde verilen paragrafın içindeki kelimelerin sıklıklarını (her bir kelimenin paragraf içinde kaç tane geçtiğini) ekrana listeyelecek kodu yazın. (25 Puan)\n",
        "\n",
        "Örnek çıktı aşağıdaki gibi olmalıdır:\n",
        "\n",
        "```\n",
        "elma - 3\n",
        "armut - 5\n",
        "karpuz - 2\n",
        "...\n",
        "```"
      ],
      "metadata": {
        "id": "N3CYVfJUyLQX"
      }
    },
    {
      "cell_type": "code",
      "execution_count": 16,
      "metadata": {
        "id": "m9Xix4Enun8Z",
        "colab": {
          "base_uri": "https://localhost:8080/"
        },
        "outputId": "b95d6da2-aa0f-46c2-faf7-2f36fca37d03"
      },
      "outputs": [
        {
          "output_type": "stream",
          "name": "stdout",
          "text": [
            "the - 14\n",
            "power - 2\n",
            "of - 9\n",
            "open - 4\n",
            "culture - 1\n",
            "at - 1\n",
            "creative - 2\n",
            "commons - 2\n",
            "we - 1\n",
            "truly - 1\n",
            "believe - 1\n",
            "in - 6\n",
            "access - 2\n",
            "to - 6\n",
            "cultural - 4\n",
            "heritage - 3\n",
            "this - 1\n",
            "type - 1\n",
            "better - 2\n",
            "sharing - 2\n",
            "helps - 1\n",
            "build - 3\n",
            "and - 12\n",
            "sustain - 1\n",
            "vibrant - 1\n",
            "thriving - 1\n",
            "societies - 1\n",
            "galleries - 1\n",
            "libraries - 1\n",
            "archives - 1\n",
            "museums - 1\n",
            "glams - 5\n",
            "have - 1\n",
            "been - 1\n",
            "gate - 1\n",
            "openers - 1\n",
            "world - 1\n",
            "s - 1\n",
            "for - 4\n",
            "centuries - 1\n",
            "play - 1\n",
            "a - 2\n",
            "fundamental - 1\n",
            "role - 1\n",
            "communities - 2\n",
            "that - 2\n",
            "they - 4\n",
            "serve - 1\n",
            "provide - 1\n",
            "resources - 2\n",
            "services - 1\n",
            "enjoyment - 1\n",
            "education - 1\n",
            "research - 1\n",
            "advancement - 1\n",
            "knowledge - 1\n",
            "stimulate - 1\n",
            "creativity - 1\n",
            "innovation - 1\n",
            "service - 1\n",
            "global - 1\n",
            "sustainable - 1\n",
            "development - 1\n",
            "by - 2\n",
            "making - 1\n",
            "their - 3\n",
            "collections - 2\n",
            "as - 2\n",
            "openly - 2\n",
            "accessible - 2\n",
            "shareable - 1\n",
            "reusable - 1\n",
            "possible - 1\n",
            "public - 1\n",
            "both - 1\n",
            "on - 2\n",
            "site - 1\n",
            "online - 2\n",
            "empower - 1\n",
            "people - 1\n",
            "generation - 2\n",
            "after - 1\n",
            "offering - 1\n",
            "them - 1\n",
            "scientific - 1\n",
            "historical - 1\n",
            "socio - 1\n",
            "future - 1\n",
            "themselves - 1\n",
            "list - 1\n",
            "with - 1\n",
            "programs - 2\n",
            "gets - 1\n",
            "longer - 1\n",
            "every - 1\n",
            "day - 1\n",
            "however - 1\n",
            "those - 1\n",
            "don - 1\n",
            "t - 1\n",
            "just - 1\n",
            "happen - 1\n",
            "experience - 1\n",
            "pioneering - 1\n",
            "set - 1\n",
            "trend - 1\n",
            "early - 1\n",
            "days - 1\n",
            "movement - 1\n",
            "unfortunately - 1\n",
            "today - 1\n",
            "still - 1\n",
            "face - 1\n",
            "many - 1\n",
            "barriers - 2\n",
            "trying - 1\n",
            "make - 1\n",
            "strives - 1\n",
            "support - 1\n",
            "overcoming - 1\n",
            "these - 1\n",
            "achieve - 1\n"
          ]
        }
      ],
      "source": [
        "#Sıklık hesabı yapılacak Paragraf\n",
        "#paragraf = \"The power of open culture. At Creative Commons, we truly believe in the power of open access to cultural heritage. This type of better sharing helps build and sustain vibrant and thriving societies. Galleries, libraries, archives, and museums (GLAMs) have been the gate openers to the world’s cultural heritage for centuries, and play a fundamental role for the communities that they serve. They provide resources and services for enjoyment, education, research, and the advancement of knowledge, and stimulate creativity and innovation in the service of global sustainable development. By making their collections as openly accessible, shareable, and reusable as possible by the public — both on-site and online — they empower people, generation after generation, in offering them the scientific, historical, and socio-cultural resources to build a future for themselves and their communities. The list of GLAMs with open access programs gets longer every day. However, those programs don’t just happen. They build on the experience of pioneering GLAMs that set the trend in the early days of the open movement. Unfortunately, today still, GLAMs face many barriers in trying to make their collections openly accessible online. Creative Commons strives to support GLAMs in overcoming these barriers to achieve better sharing of cultural heritage.\"\n",
        "\n",
        "#Sizin kodlarınız\n",
        "from collections import Counter\n",
        "import re\n",
        "\n",
        "# Paragraf\n",
        "paragraf = \"The power of open culture. At Creative Commons, we truly believe in the power of open access to cultural heritage. This type of better sharing helps build and sustain vibrant and thriving societies. Galleries, libraries, archives, and museums (GLAMs) have been the gate openers to the world’s cultural heritage for centuries, and play a fundamental role for the communities that they serve. They provide resources and services for enjoyment, education, research, and the advancement of knowledge, and stimulate creativity and innovation in the service of global sustainable development. By making their collections as openly accessible, shareable, and reusable as possible by the public — both on-site and online — they empower people, generation after generation, in offering them the scientific, historical, and socio-cultural resources to build a future for themselves and their communities. The list of GLAMs with open access programs gets longer every day. However, those programs don’t just happen. They build on the experience of pioneering GLAMs that set the trend in the early days of the open movement. Unfortunately, today still, GLAMs face many barriers in trying to make their collections openly accessible online. Creative Commons strives to support GLAMs in overcoming these barriers to achieve better sharing of cultural heritage.\"\n",
        "\n",
        "# Kelimele sıklık ve ayıkla\n",
        "kelimeler = re.findall(r'\\b\\w+\\b', paragraf.lower())\n",
        "sikliklar = Counter(kelimeler)\n",
        "\n",
        "# Yazdır\n",
        "for kelime, siklik in sikliklar.items():\n",
        "    print(f\"{kelime} - {siklik}\")\n",
        "\n",
        "\n"
      ]
    },
    {
      "cell_type": "markdown",
      "source": [
        "# Soru 2\n",
        "\n",
        "Kod bölümünde verilen URL'de yer alan web sayfasında \"h2\" etiketi ile işaretlenmiş metinleri ekrana listeleyecek kodu yazın. (25 Puan)\n",
        "\n",
        "Örnek çıktı aşağıdaki gibi olmalıdır:\n",
        "\n",
        "\n",
        "```\n",
        "Who We Are\n",
        "Our mission\n",
        "Our vision\n",
        "...\n",
        "```\n",
        "\n"
      ],
      "metadata": {
        "id": "uIuXDXBd3whN"
      }
    },
    {
      "cell_type": "code",
      "source": [
        "#h2 etiketlerinin okunacağı URL\n",
        "#url = \"https://creativecommons.org/mission/\"\n",
        "\n",
        "#Sizin kodlarınız\n",
        "import requests\n",
        "from bs4 import BeautifulSoup\n",
        "\n",
        "# Web sayfasını indirme\n",
        "url = \"https://creativecommons.org/mission/\"\n",
        "response = requests.get(url)\n",
        "\n",
        "# HTML içeriğini parse etme\n",
        "soup = BeautifulSoup(response.text, 'html.parser')\n",
        "\n",
        "# \"h2\" etiketi bul\n",
        "h2_tags = soup.find_all('h2')\n",
        "\n",
        "# Metinleri ekrana yazdırma\n",
        "for h2_tag in h2_tags:\n",
        "    print(h2_tag.text.strip())\n",
        "\n"
      ],
      "metadata": {
        "id": "vonGuadn4kwE",
        "colab": {
          "base_uri": "https://localhost:8080/"
        },
        "outputId": "2bf3a46b-991c-4d25-ef3d-297573adaec0"
      },
      "execution_count": 18,
      "outputs": [
        {
          "output_type": "stream",
          "name": "stdout",
          "text": [
            "Who We Are\n",
            "Our mission\n",
            "Our vision\n",
            "Our strategy\n",
            "Our values\n",
            "Contact Us\n",
            "Subscribe to our Newsletter\n",
            "Support Our Work\n"
          ]
        }
      ]
    },
    {
      "cell_type": "markdown",
      "source": [
        "# Soru 3\n",
        "\n",
        "Kullanıcı tarafından girilen bir sayısının asal sayı olup olmadığını kontrol edecek bir \"asal sayı tahmin oyunu\" kodlayınız. Bu oyunda kullanıcı asal sayı girdiği sürecek ikinci bir tahmin hakkı verilmeli, asal sayı girmediği zaman ise oyun sona erdirilmelidir. (25 Puan)"
      ],
      "metadata": {
        "id": "zEAR579V5al1"
      }
    },
    {
      "cell_type": "code",
      "source": [
        "#Veri girişi\n",
        "#girdi = input(\"Bir tam sayı giriniz: \")\n",
        "\n",
        "# Sizin kodlarınız\n",
        "def asal_mi(sayi):\n",
        "    if sayi < 2:\n",
        "        return False\n",
        "    for i in range(2, int(sayi**0.5) + 1):\n",
        "        if sayi % i == 0:\n",
        "            return False\n",
        "    return True\n",
        "\n",
        "# Veri\n",
        "girdi = input(\"Bir tam sayı giriniz: \")\n",
        "\n",
        "# Asal Kontrol\n",
        "if girdi.isdigit():\n",
        "    sayi = int(girdi)\n",
        "    if asal_mi(sayi):\n",
        "        print(\"Tebrikler! Girdiğiniz sayı bir asal sayıdır.\")\n",
        "    else:\n",
        "        print(\"Maalesef, girdiğiniz sayı bir asal sayı değildir.\")\n",
        "        # İkinci Hak\n",
        "        ikinci_girdi = input(\"Tekrar bir sayı giriniz: \")\n",
        "        if ikinci_girdi.isdigit():\n",
        "            sayi = int(ikinci_girdi)\n",
        "            if asal_mi(sayi):\n",
        "                print(\"Tebrikler! İkinci tahmininiz doğru. Girdiğiniz sayı bir asal sayıdır.\")\n",
        "            else:\n",
        "                print(\"Üzgünüz, ikinci tahmininiz de bir asal sayı değil.\")\n",
        "        else:\n",
        "            print(\"Geçersiz giriş. Oyun sona erdi.\")\n",
        "else:\n",
        "    print(\"Geçersiz giriş. Lütfen bir tam sayı giriniz.\")\n",
        "\n"
      ],
      "metadata": {
        "id": "ntHxasd87B1f",
        "colab": {
          "base_uri": "https://localhost:8080/"
        },
        "outputId": "ede9d946-1333-43f7-f576-b90489b53d3b"
      },
      "execution_count": 11,
      "outputs": [
        {
          "output_type": "stream",
          "name": "stdout",
          "text": [
            "Bir tam sayı giriniz: 34\n",
            "Maalesef, girdiğiniz sayı bir asal sayı değildir.\n",
            "Tekrar bir sayı giriniz: 31\n",
            "Tebrikler! İkinci tahmininiz doğru. Girdiğiniz sayı bir asal sayıdır.\n"
          ]
        }
      ]
    },
    {
      "cell_type": "markdown",
      "source": [
        "# Soru 4\n",
        "\n",
        "Kullanıcı tarafından girilen bir cümlenin \"İngilizce\" olup olmadığını anlayacak kodu yazınız. Girilen cümlenin analizinden sonra sonuç ekrana yazdırılmalı.\n",
        "\n",
        "Not: Bu soru için kullandığınız ek bir dosya varsa o dosyayı da Github deponuza eklemeyi unutmayınız.\n",
        "\n",
        "Örnek çıktı:\n",
        "\n",
        "```\n",
        "\"I want to learn Python programming in my school life\" cümlesi ingilizcedir.\n",
        "```\n"
      ],
      "metadata": {
        "id": "_3_lGQj97G4Z"
      }
    },
    {
      "cell_type": "code",
      "source": [
        "#Cümle girişi\n",
        "#girdi = input(\"Bir cümle giriniz: \")\n",
        "\n",
        "# Sizin kodlarınız\n",
        "def is_english(sentence):\n",
        "    english_alphabet = set(\"abcdefghijklmnopqrstuvwxyzABCDEFGHIJKLMNOPQRSTUVWXYZ\")\n",
        "\n",
        "    for char in sentence:\n",
        "        if char.isalpha() and char not in english_alphabet:\n",
        "            return False\n",
        "\n",
        "    return True\n",
        "\n",
        "# Cümle girişi\n",
        "girdi = input(\"Bir cümle giriniz: \")\n",
        "\n",
        "# İngilizce Kontrol\n",
        "if is_english(girdi):\n",
        "    print(f'\"{girdi}\" cümlesi İngilizcedir.')\n",
        "else:\n",
        "    print(f'\"{girdi}\" cümlesi İngilizce değildir.')\n",
        "\n"
      ],
      "metadata": {
        "id": "MJb8eoth-Lam",
        "colab": {
          "base_uri": "https://localhost:8080/"
        },
        "outputId": "18d42a54-cd12-4675-add2-caae20263558"
      },
      "execution_count": 17,
      "outputs": [
        {
          "output_type": "stream",
          "name": "stdout",
          "text": [
            "Bir cümle giriniz: My favorite animal is rabbit\n",
            "\"My favorite animal is rabbit\" cümlesi İngilizcedir.\n"
          ]
        }
      ]
    }
  ]
}